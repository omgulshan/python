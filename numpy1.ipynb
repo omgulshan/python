{
  "nbformat": 4,
  "nbformat_minor": 0,
  "metadata": {
    "colab": {
      "provenance": []
    },
    "kernelspec": {
      "name": "python3",
      "display_name": "Python 3"
    },
    "language_info": {
      "name": "python"
    }
  },
  "cells": [
    {
      "cell_type": "code",
      "execution_count": null,
      "metadata": {
        "id": "Z8Ri1uzBDcRO"
      },
      "outputs": [],
      "source": []
    },
    {
      "cell_type": "code",
      "source": [
        "#Numpy is a python library used for working with arrays.numpy stands for numerical python\n",
        "#importance of numpy\n",
        "#in python we have list that serve the purpose of arrays ,but they are slow to process.\n",
        "#numpy aims to provide an array object that is up to 50x faster than traditional python lists.\n",
        "#the array object in numpy is called ndarray"
      ],
      "metadata": {
        "id": "EqSj4GyYHCrB"
      },
      "execution_count": null,
      "outputs": []
    },
    {
      "cell_type": "code",
      "source": [
        "\n",
        "#numpy is inmported into the code by using simple code\n",
        "import numpy as np\n",
        "#here it is important to understand that numpy is usually imported as alias np as it is easy to pronunce np many times rather than complete numpy"
      ],
      "metadata": {
        "id": "Vjy4tk8rFS8d"
      },
      "execution_count": null,
      "outputs": []
    },
    {
      "cell_type": "code",
      "source": [
        "#checking version of numpy\n",
        "print(np.__version__)"
      ],
      "metadata": {
        "id": "9clCp6OSICCS"
      },
      "execution_count": null,
      "outputs": []
    },
    {
      "cell_type": "code",
      "source": [
        "#creating array using numpy\n",
        "\n",
        "#creating 0 dimensional array\n",
        "arr1=np.array(42)\n",
        "print(arr1)\n",
        "\n",
        "#creating 1 dimesnional array\n",
        "arr=np.array([1,2,3,4,5])\n",
        "print(arr)\n",
        "\n",
        "#creating 2 dimesnional array\n",
        "arr2=np.array([[1,2],[3,4]])\n",
        "print(arr2)\n",
        "\n",
        "#creating 3 dimesnional array\n",
        "arr3=np.array([[[1,2,3],[4,5,6],[7,8,9]]])\n",
        "print(arr3)"
      ],
      "metadata": {
        "id": "IAxlY1fcIc5Q"
      },
      "execution_count": null,
      "outputs": []
    },
    {
      "cell_type": "code",
      "source": [
        "#checking dimension of array\n",
        "#this can be checked as follows\n",
        "print(arr.ndim)\n",
        "print(arr1.ndim)\n",
        "print(arr2.ndim)\n"
      ],
      "metadata": {
        "id": "L-N5nOjQQLd_"
      },
      "execution_count": null,
      "outputs": []
    },
    {
      "cell_type": "code",
      "source": [
        "'''accessing the array element\n",
        "this can be done in similar way as in\n",
        "c++'''\n",
        "#printing third element\n",
        "print(arr[3])"
      ],
      "metadata": {
        "colab": {
          "base_uri": "https://localhost:8080/"
        },
        "id": "7xrnwkDDQjHR",
        "outputId": "5ac7525c-d21a-4d66-94f4-e53388e95989"
      },
      "execution_count": 13,
      "outputs": [
        {
          "output_type": "stream",
          "name": "stdout",
          "text": [
            "4\n"
          ]
        }
      ]
    },
    {
      "cell_type": "code",
      "source": [
        "'''\n",
        "question:\n",
        "taking an array arr=[1,3,5,6]\n",
        "print the summation of 2nd and 3rd element in the array\n",
        "take 1 based indexing'''\n",
        "Arr=np.array([1,3,5,6])\n",
        "print(Arr[0]+Arr[2])\n",
        "#accessing 2 dimesional array\n",
        "print(arr2[0][1])\n"
      ],
      "metadata": {
        "id": "8uJyrJZ3RUHc"
      },
      "execution_count": null,
      "outputs": []
    }
  ]
}